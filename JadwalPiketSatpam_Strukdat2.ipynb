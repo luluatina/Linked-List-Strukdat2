{
  "nbformat": 4,
  "nbformat_minor": 0,
  "metadata": {
    "colab": {
      "provenance": [],
      "authorship_tag": "ABX9TyN8MCzJGuKJ6xf26nwGTmS8",
      "include_colab_link": true
    },
    "kernelspec": {
      "name": "python3",
      "display_name": "Python 3"
    },
    "language_info": {
      "name": "python"
    }
  },
  "cells": [
    {
      "cell_type": "markdown",
      "metadata": {
        "id": "view-in-github",
        "colab_type": "text"
      },
      "source": [
        "<a href=\"https://colab.research.google.com/github/luluatina/Linked-List-Strukdat2/blob/main/JadwalPiketSatpam_Strukdat2.ipynb\" target=\"_parent\"><img src=\"https://colab.research.google.com/assets/colab-badge.svg\" alt=\"Open In Colab\"/></a>"
      ]
    },
    {
      "cell_type": "code",
      "execution_count": null,
      "metadata": {
        "colab": {
          "base_uri": "https://localhost:8080/"
        },
        "id": "09nSzfPr6uwX",
        "outputId": "fd1ac65a-a09e-4644-a083-6ae975d6fcd5"
      },
      "outputs": [
        {
          "output_type": "stream",
          "name": "stdout",
          "text": [
            "Masukkan nama satpam ke-1: Joko\n",
            "Masukkan nama satpam ke-2: Budi\n",
            "Masukkan nama satpam ke-3: Anwar\n",
            "Masukkan nama satpam ke-4: Irsadi\n",
            "\n",
            "⭐ Jadwal Piket Satpam Selama 2 Minggu: \n",
            "\n",
            "Hari 1: Joko\n",
            "Hari 2: Budi\n",
            "Hari 3: Anwar\n",
            "Hari 4: Irsadi\n",
            "Hari 5: Joko\n",
            "Hari 6: Budi\n",
            "Hari 7: Anwar\n",
            "Hari 8: Irsadi\n",
            "Hari 9: Joko\n",
            "Hari 10: Budi\n",
            "Hari 11: Anwar\n",
            "Hari 12: Irsadi\n",
            "Hari 13: Joko\n",
            "Hari 14: Budi\n"
          ]
        }
      ],
      "source": [
        "class Node:\n",
        "    def __init__(self, name):\n",
        "        self.name = name\n",
        "        self.next = None\n",
        "\n",
        "class CircularLinkedList:\n",
        "    def __init__(self):\n",
        "        self.head = None\n",
        "\n",
        "    def append(self, name):\n",
        "        new_node = Node(name)\n",
        "        if not self.head:\n",
        "            self.head = new_node\n",
        "            self.head.next = self.head\n",
        "        else:\n",
        "            temp = self.head\n",
        "            while temp.next != self.head:\n",
        "                temp = temp.next\n",
        "            temp.next = new_node\n",
        "            new_node.next = self.head\n",
        "\n",
        "    def print_schedule(self, days):\n",
        "        if not self.head:\n",
        "            print(\"Tidak ada satpam yang terdaftar.\")\n",
        "            return\n",
        "\n",
        "        temp = self.head\n",
        "        print(\"\\n⭐ Jadwal Piket Satpam Selama 2 Minggu: \\n\")\n",
        "        for i in range(1, days + 1):\n",
        "            print(f\"Hari {i}: {temp.name}\")\n",
        "            temp = temp.next\n",
        "\n",
        "# Input nama satpam\n",
        "satpam_list = []\n",
        "for i in range(4):\n",
        "    name = input(f\"Masukkan nama satpam ke-{i+1}: \")\n",
        "    satpam_list.append(name)\n",
        "\n",
        "# Membuat Circular Linked List\n",
        "jadwal_piket = CircularLinkedList()\n",
        "for name in satpam_list:\n",
        "    jadwal_piket.append(name)\n",
        "\n",
        "# Mencetak jadwal selama 14 hari\n",
        "jadwal_piket.print_schedule(14)\n"
      ]
    }
  ]
}